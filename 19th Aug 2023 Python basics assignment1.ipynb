{
 "cells": [
  {
   "cell_type": "code",
   "execution_count": 2,
   "id": "3c71b416-18a6-4648-97b2-c123c8a4fc50",
   "metadata": {},
   "outputs": [
    {
     "name": "stdout",
     "output_type": "stream",
     "text": [
      "after swapping :\n",
      "X : 10\n",
      "Y : 5\n"
     ]
    }
   ],
   "source": [
    "\"\"\" 1.Declare them two variables X and Y , Assign them two integer values. Swap the values of this variables without using temporary variable.\"\"\"\n",
    "x = 5\n",
    "y = 10\n",
    "\n",
    "x = x+y #store the value of x as the sum of x and y\n",
    "y = x-y #store the value of y as the difference of x and y so that y becomes x\n",
    "x = x-y #then the value of x becomes y\n",
    "print(\"after swapping :\")\n",
    "print(\"X :\" ,x)\n",
    "print(\"Y :\" ,y)"
   ]
  },
  {
   "cell_type": "code",
   "execution_count": 3,
   "id": "8ac4f169-337f-4039-bc35-0a2adadfd8c0",
   "metadata": {},
   "outputs": [
    {
     "name": "stdin",
     "output_type": "stream",
     "text": [
      "Length of rectangle : 20\n",
      "Width of rectangle :  3\n"
     ]
    },
    {
     "name": "stdout",
     "output_type": "stream",
     "text": [
      "Area of rectangle :  60.0 unit sqaure\n"
     ]
    }
   ],
   "source": [
    "\"\"\" 2. Create a program that calculas area of the rectangle. take the length and width as inputs from the user store them in variables. Calculate and display the area.\"\"\"\n",
    "l =float(input(\"Length of rectangle :\")) #put down the length of rectangle\n",
    "w =float(input(\"Width of rectangle : \")) #put down the width of rectangle\n",
    "Area = l*w #using the area of rectangle formula\n",
    "print(\"Area of rectangle : \" , Area , \"unit sqaure\")"
   ]
  },
  {
   "cell_type": "code",
   "execution_count": 6,
   "id": "e07dd052-64f2-4cce-b166-1a7ec692bc8e",
   "metadata": {},
   "outputs": [
    {
     "name": "stdin",
     "output_type": "stream",
     "text": [
      "Enter the value of temparature in celcius:  25\n"
     ]
    },
    {
     "name": "stdout",
     "output_type": "stream",
     "text": [
      "temparature in fahrenhiet {77.0} F\n"
     ]
    }
   ],
   "source": [
    "\"\"\" 3. Write a python program that converts temparature from celsius to fahrenhiet.Take the temparature in celcius as input store it in a variable.\n",
    "convert it to fahrenhiet and display the result.\"\"\"\n",
    "cel = float(input(\"Enter the value of temparature in celcius: \"))\n",
    "fahr = {(cel*9/5)+32} #using the formula of degree c to degree f conversion\n",
    "print(\"temparature in fahrenhiet\", fahr ,\"F\")"
   ]
  },
  {
   "cell_type": "code",
   "execution_count": 1,
   "id": "70d098dc-f368-4518-aa97-7f1562efa0df",
   "metadata": {},
   "outputs": [
    {
     "name": "stdin",
     "output_type": "stream",
     "text": [
      "enter the string:  kajababu\n"
     ]
    },
    {
     "name": "stdout",
     "output_type": "stream",
     "text": [
      "length of the string :  8\n"
     ]
    }
   ],
   "source": [
    "\"\"\" 4.Write a program that takes a string as input and prints the length of the string.\"\"\"\n",
    "s1 = input(\"enter the string: \") #taking input\n",
    "print(\"length of the string : \" , len(s1)) #counting the len.str()"
   ]
  },
  {
   "cell_type": "code",
   "execution_count": 4,
   "id": "691457cc-b2a6-432b-a364-328b629adc75",
   "metadata": {},
   "outputs": [
    {
     "name": "stdin",
     "output_type": "stream",
     "text": [
      "enter a sentence :  birthday\n"
     ]
    },
    {
     "name": "stdout",
     "output_type": "stream",
     "text": [
      "1\n",
      "2\n"
     ]
    }
   ],
   "source": [
    "\"\"\" 5.Create a program that takes a sentence from the user and counts the numbers of vowels(a,e,i,o,u) in the string.\"\"\"\n",
    "sentence = input(\"enter a sentence : \");\n",
    "counts = 0\n",
    "for i in sentence : #use the concept of loop for multiple check for individual vowels\n",
    "    if i in 'aAeEiIoOuU' : #all vowels in lower as well as in upper case\n",
    "        counts+=1\n",
    "        print(counts)"
   ]
  },
  {
   "cell_type": "code",
   "execution_count": 5,
   "id": "47141c60-aeeb-40af-b1de-10d706af256a",
   "metadata": {},
   "outputs": [
    {
     "name": "stdin",
     "output_type": "stream",
     "text": [
      " st'marys group of college\n"
     ]
    },
    {
     "name": "stdout",
     "output_type": "stream",
     "text": [
      "reverse of string is = egelloc fo puorg syram'ts\n"
     ]
    }
   ],
   "source": [
    "\"\"\" 6.Given a string ,reverse the order of characters using string slicing and print the reversed string.\"\"\"\n",
    "string = input()\n",
    "print(f\"reverse of string is = {string[::-1]}\") #reverse sclicing with negative scaling as the size of input is not def:"
   ]
  },
  {
   "cell_type": "code",
   "execution_count": 11,
   "id": "ac0308bf-83ae-4b80-9d8f-2d086e01aa6f",
   "metadata": {},
   "outputs": [
    {
     "name": "stdin",
     "output_type": "stream",
     "text": [
      " madam\n"
     ]
    },
    {
     "name": "stdout",
     "output_type": "stream",
     "text": [
      "is a palindrome string\n"
     ]
    }
   ],
   "source": [
    "\"\"\" 7.Write a program that a string as input and checks if it is a palindrome(read the same forwards and backwards).\"\"\"\n",
    "string = input()\n",
    "if string==string[::-1]: #use conditioning statement as if (...) else (...)\n",
    "    print(\"is a palindrome string\")\n",
    "else:\n",
    "        print(\"is not palindrome string\")"
   ]
  },
  {
   "cell_type": "code",
   "execution_count": 13,
   "id": "b9edbd01-fb19-4463-9d19-562620171fe4",
   "metadata": {},
   "outputs": [
    {
     "name": "stdin",
     "output_type": "stream",
     "text": [
      "enter any string: Happy new year\n"
     ]
    },
    {
     "name": "stdout",
     "output_type": "stream",
     "text": [
      "modified string:  Happy new year\n"
     ]
    }
   ],
   "source": [
    "\"\"\" 8.Create a program that string as input and removes all the spaces from it.print the modified string without spaces.\"\"\"\n",
    "def space_remover(sentence): #creating the funtion called space_remover\n",
    "    remove_space=sentence.replace(' ',' ') #removing space from the sentence\n",
    "    return remove_space\n",
    "user_input=input(\"enter any string:\") #taking input\n",
    "result=space_remover(user_input)\n",
    "print(\"modified string: \", result)"
   ]
  },
  {
   "cell_type": "code",
   "execution_count": null,
   "id": "181d7d21-a7ad-40f8-bab7-693b41a30d78",
   "metadata": {},
   "outputs": [],
   "source": []
  }
 ],
 "metadata": {
  "kernelspec": {
   "display_name": "Python 3 (ipykernel)",
   "language": "python",
   "name": "python3"
  },
  "language_info": {
   "codemirror_mode": {
    "name": "ipython",
    "version": 3
   },
   "file_extension": ".py",
   "mimetype": "text/x-python",
   "name": "python",
   "nbconvert_exporter": "python",
   "pygments_lexer": "ipython3",
   "version": "3.10.8"
  }
 },
 "nbformat": 4,
 "nbformat_minor": 5
}
